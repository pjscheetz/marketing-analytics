{
 "cells": [
  {
   "cell_type": "markdown",
   "metadata": {
    "collapsed": true,
    "pycharm": {
     "name": "#%% md\n"
    }
   },
   "source": [
    "#Parameter Interpretation\n",
    "###Customer Churn Parameters\n",
    "\n",
    "a, b are beta parameters that govern customer churn\n",
    "In the xBG model, these parameters represent the likelihood a user churns immediately following an event\n",
    "Average unconditional customer churn rate is calculated as a/(a+b)\n",
    "Expected number of events prior to churn can be calculated as the inverse of churn, or (a+b)/a\n",
    "More information about can be found here: https://towardsdatascience.com/calculating-customer-lifetime-values-using-a-shifted-beta-geometric-model-86bf538444f4?gi=fd51f06ba93b\n",
    "###Customer Purchase Rate Parameters\n",
    "\n",
    "alpha, r are gamma parameters that govern customer purchase rate\n",
    "the average of the gamma distribution is the average unconditional customer purchase rate and can be calculated as r/alpha\n",
    "Under the xBG models, expected customer lifetime can be calculated as expected purchases/purchase rate\n"
   ]
  }
 ],
 "metadata": {
  "kernelspec": {
   "display_name": "Python 3",
   "language": "python",
   "name": "python3"
  },
  "language_info": {
   "codemirror_mode": {
    "name": "ipython",
    "version": 2
   },
   "file_extension": ".py",
   "mimetype": "text/x-python",
   "name": "python",
   "nbconvert_exporter": "python",
   "pygments_lexer": "ipython2",
   "version": "2.7.6"
  }
 },
 "nbformat": 4,
 "nbformat_minor": 0
}